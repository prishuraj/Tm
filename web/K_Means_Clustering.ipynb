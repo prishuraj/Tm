{
  "nbformat": 4,
  "nbformat_minor": 0,
  "metadata": {
    "colab": {
      "provenance": []
    },
    "kernelspec": {
      "name": "python3",
      "display_name": "Python 3"
    },
    "language_info": {
      "name": "python"
    }
  },
  "cells": [
    {
      "cell_type": "code",
      "source": [
        "import numpy as np\n",
        "import pandas as pd"
      ],
      "metadata": {
        "id": "sTiQWg7HkuFt"
      },
      "execution_count": null,
      "outputs": []
    },
    {
      "cell_type": "code",
      "execution_count": null,
      "metadata": {
        "id": "mLulahkGjDLX"
      },
      "outputs": [],
      "source": [
        "document = [\"This is the most beautiful place in the world.\", \"This man has more skills to show in cricket than any other game.\", \"Hi there! how was your ladakh trip last month?\", \"There was a player who had scored 200+ runs in single cricket innings in his career.\", \"I have got the opportunity to travel to Paris next year for my internship.\", \"May be he is better than you in batting but you are much better than him in bowling.\", \"That was really a great day for me when I was there at Lavasa for the whole night.\", \"That's exactly I wanted to become, a highest ratting batsmen ever with top scores.\", \"Does it really matter wether you go to Thailand or Goa, its just you have spend your holidays.\", \"Why don't you go to Switzerland next year for your 25th Wedding anniversary?\", \"Travel is fatal to prejudice, bigotry, and narrow mindedness., and many of our people need it sorely on these accounts.\", \"Stop worrying about the potholes in the road and enjoy the journey.\", \"No cricket team in the world depends on one or two players. The team always plays to win.\", \"Cricket is a team game. If you want fame for yourself, go play an individual game.\", \"Because in the end, you won't remember the time you spent working in the office or mowing your lawn. Climb that goddamn mountain.\", \"Isn't cricket supposed to be a team sport? I feel people should decide first whether cricket is a team game or an individual sport.\"]\n",
        "label = ['travel', 'cricket', 'travel', 'cricket', 'travel', 'cricket', 'travel', 'cricket', 'travel', 'travel', 'travel', 'travel', 'cricket', 'cricket', 'travel', 'cricket']"
      ]
    },
    {
      "cell_type": "code",
      "source": [
        "labeln = [1,0,1,0,1,0,1,0,1,1,1,1,0,0,1,0]"
      ],
      "metadata": {
        "id": "jVhjkiGOtQnt"
      },
      "execution_count": null,
      "outputs": []
    },
    {
      "cell_type": "code",
      "source": [
        "document"
      ],
      "metadata": {
        "colab": {
          "base_uri": "https://localhost:8080/"
        },
        "id": "Xmt3GQOillqh",
        "outputId": "f400385a-258f-4b17-f7d6-20ba5f096ba1"
      },
      "execution_count": null,
      "outputs": [
        {
          "output_type": "execute_result",
          "data": {
            "text/plain": [
              "['This is the most beautiful place in the world.',\n",
              " 'This man has more skills to show in cricket than any other game.',\n",
              " 'Hi there! how was your ladakh trip last month?',\n",
              " 'There was a player who had scored 200+ runs in single cricket innings in his career.',\n",
              " 'I have got the opportunity to travel to Paris next year for my internship.',\n",
              " 'May be he is better than you in batting but you are much better than him in bowling.',\n",
              " 'That was really a great day for me when I was there at Lavasa for the whole night.',\n",
              " \"That's exactly I wanted to become, a highest ratting batsmen ever with top scores.\",\n",
              " 'Does it really matter wether you go to Thailand or Goa, its just you have spend your holidays.',\n",
              " \"Why don't you go to Switzerland next year for your 25th Wedding anniversary?\",\n",
              " 'Travel is fatal to prejudice, bigotry, and narrow mindedness., and many of our people need it sorely on these accounts.',\n",
              " 'Stop worrying about the potholes in the road and enjoy the journey.',\n",
              " 'No cricket team in the world depends on one or two players. The team always plays to win.',\n",
              " 'Cricket is a team game. If you want fame for yourself, go play an individual game.',\n",
              " \"Because in the end, you won't remember the time you spent working in the office or mowing your lawn. Climb that goddamn mountain.\",\n",
              " \"Isn't cricket supposed to be a team sport? I feel people should decide first whether cricket is a team game or an individual sport.\"]"
            ]
          },
          "metadata": {},
          "execution_count": 63
        }
      ]
    },
    {
      "cell_type": "code",
      "source": [
        "from sklearn.feature_extraction.text import TfidfVectorizer\n",
        "from sklearn.cluster import KMeans"
      ],
      "metadata": {
        "id": "FPNktCd4ljG-"
      },
      "execution_count": null,
      "outputs": []
    },
    {
      "cell_type": "code",
      "source": [
        "vectorizer = TfidfVectorizer(stop_words='english')\n",
        "X = vectorizer.fit_transform(document)"
      ],
      "metadata": {
        "id": "6hp7gJFFlkNF"
      },
      "execution_count": null,
      "outputs": []
    },
    {
      "cell_type": "code",
      "source": [
        "true_k = 2\n",
        "model = KMeans(n_clusters=true_k,init= 'k-means++',max_iter=100, n_init=1)\n",
        "model.fit(X)"
      ],
      "metadata": {
        "colab": {
          "base_uri": "https://localhost:8080/",
          "height": 94
        },
        "id": "eu2E5RAklt9b",
        "outputId": "7b5a5ba1-fe6d-4f5b-f7e6-f4905980867f"
      },
      "execution_count": null,
      "outputs": [
        {
          "output_type": "execute_result",
          "data": {
            "text/plain": [
              "KMeans(max_iter=100, n_clusters=2, n_init=1)"
            ],
            "text/html": [
              "<style>#sk-container-id-4 {color: black;background-color: white;}#sk-container-id-4 pre{padding: 0;}#sk-container-id-4 div.sk-toggleable {background-color: white;}#sk-container-id-4 label.sk-toggleable__label {cursor: pointer;display: block;width: 100%;margin-bottom: 0;padding: 0.3em;box-sizing: border-box;text-align: center;}#sk-container-id-4 label.sk-toggleable__label-arrow:before {content: \"▸\";float: left;margin-right: 0.25em;color: #696969;}#sk-container-id-4 label.sk-toggleable__label-arrow:hover:before {color: black;}#sk-container-id-4 div.sk-estimator:hover label.sk-toggleable__label-arrow:before {color: black;}#sk-container-id-4 div.sk-toggleable__content {max-height: 0;max-width: 0;overflow: hidden;text-align: left;background-color: #f0f8ff;}#sk-container-id-4 div.sk-toggleable__content pre {margin: 0.2em;color: black;border-radius: 0.25em;background-color: #f0f8ff;}#sk-container-id-4 input.sk-toggleable__control:checked~div.sk-toggleable__content {max-height: 200px;max-width: 100%;overflow: auto;}#sk-container-id-4 input.sk-toggleable__control:checked~label.sk-toggleable__label-arrow:before {content: \"▾\";}#sk-container-id-4 div.sk-estimator input.sk-toggleable__control:checked~label.sk-toggleable__label {background-color: #d4ebff;}#sk-container-id-4 div.sk-label input.sk-toggleable__control:checked~label.sk-toggleable__label {background-color: #d4ebff;}#sk-container-id-4 input.sk-hidden--visually {border: 0;clip: rect(1px 1px 1px 1px);clip: rect(1px, 1px, 1px, 1px);height: 1px;margin: -1px;overflow: hidden;padding: 0;position: absolute;width: 1px;}#sk-container-id-4 div.sk-estimator {font-family: monospace;background-color: #f0f8ff;border: 1px dotted black;border-radius: 0.25em;box-sizing: border-box;margin-bottom: 0.5em;}#sk-container-id-4 div.sk-estimator:hover {background-color: #d4ebff;}#sk-container-id-4 div.sk-parallel-item::after {content: \"\";width: 100%;border-bottom: 1px solid gray;flex-grow: 1;}#sk-container-id-4 div.sk-label:hover label.sk-toggleable__label {background-color: #d4ebff;}#sk-container-id-4 div.sk-serial::before {content: \"\";position: absolute;border-left: 1px solid gray;box-sizing: border-box;top: 0;bottom: 0;left: 50%;z-index: 0;}#sk-container-id-4 div.sk-serial {display: flex;flex-direction: column;align-items: center;background-color: white;padding-right: 0.2em;padding-left: 0.2em;position: relative;}#sk-container-id-4 div.sk-item {position: relative;z-index: 1;}#sk-container-id-4 div.sk-parallel {display: flex;align-items: stretch;justify-content: center;background-color: white;position: relative;}#sk-container-id-4 div.sk-item::before, #sk-container-id-4 div.sk-parallel-item::before {content: \"\";position: absolute;border-left: 1px solid gray;box-sizing: border-box;top: 0;bottom: 0;left: 50%;z-index: -1;}#sk-container-id-4 div.sk-parallel-item {display: flex;flex-direction: column;z-index: 1;position: relative;background-color: white;}#sk-container-id-4 div.sk-parallel-item:first-child::after {align-self: flex-end;width: 50%;}#sk-container-id-4 div.sk-parallel-item:last-child::after {align-self: flex-start;width: 50%;}#sk-container-id-4 div.sk-parallel-item:only-child::after {width: 0;}#sk-container-id-4 div.sk-dashed-wrapped {border: 1px dashed gray;margin: 0 0.4em 0.5em 0.4em;box-sizing: border-box;padding-bottom: 0.4em;background-color: white;}#sk-container-id-4 div.sk-label label {font-family: monospace;font-weight: bold;display: inline-block;line-height: 1.2em;}#sk-container-id-4 div.sk-label-container {text-align: center;}#sk-container-id-4 div.sk-container {/* jupyter's `normalize.less` sets `[hidden] { display: none; }` but bootstrap.min.css set `[hidden] { display: none !important; }` so we also need the `!important` here to be able to override the default hidden behavior on the sphinx rendered scikit-learn.org. See: https://github.com/scikit-learn/scikit-learn/issues/21755 */display: inline-block !important;position: relative;}#sk-container-id-4 div.sk-text-repr-fallback {display: none;}</style><div id=\"sk-container-id-4\" class=\"sk-top-container\"><div class=\"sk-text-repr-fallback\"><pre>KMeans(max_iter=100, n_clusters=2, n_init=1)</pre><b>In a Jupyter environment, please rerun this cell to show the HTML representation or trust the notebook. <br />On GitHub, the HTML representation is unable to render, please try loading this page with nbviewer.org.</b></div><div class=\"sk-container\" hidden><div class=\"sk-item\"><div class=\"sk-estimator sk-toggleable\"><input class=\"sk-toggleable__control sk-hidden--visually\" id=\"sk-estimator-id-4\" type=\"checkbox\" checked><label for=\"sk-estimator-id-4\" class=\"sk-toggleable__label sk-toggleable__label-arrow\">KMeans</label><div class=\"sk-toggleable__content\"><pre>KMeans(max_iter=100, n_clusters=2, n_init=1)</pre></div></div></div></div></div>"
            ]
          },
          "metadata": {},
          "execution_count": 66
        }
      ]
    },
    {
      "cell_type": "code",
      "source": [
        "order_centroids = model.cluster_centers_.argsort()[:, ::-1]\n",
        "terms = vectorizer.get_feature_names_out()"
      ],
      "metadata": {
        "id": "RIXakHQIlvLG"
      },
      "execution_count": null,
      "outputs": []
    },
    {
      "cell_type": "code",
      "source": [
        "order_centroids.shape"
      ],
      "metadata": {
        "colab": {
          "base_uri": "https://localhost:8080/"
        },
        "id": "Qa2QD1mUmAhS",
        "outputId": "ae118fd6-c930-4dcb-9bed-6c0e9215f9ef"
      },
      "execution_count": null,
      "outputs": [
        {
          "output_type": "execute_result",
          "data": {
            "text/plain": [
              "(2, 92)"
            ]
          },
          "metadata": {},
          "execution_count": 69
        }
      ]
    },
    {
      "cell_type": "code",
      "source": [
        "order_centroids"
      ],
      "metadata": {
        "colab": {
          "base_uri": "https://localhost:8080/"
        },
        "id": "xBaxrIkGmycM",
        "outputId": "76a82453-ab90-480a-d02b-355d5ca96b6c"
      },
      "execution_count": null,
      "outputs": [
        {
          "output_type": "execute_result",
          "data": {
            "text/plain": [
              "array([[12, 77, 24, 89,  6, 54, 41, 69, 32, 73, 55, 82, 21, 68, 65,  0,\n",
              "        10, 56, 66, 33, 57, 58, 86, 15, 23, 35, 14, 75, 53,  4, 34,  1,\n",
              "         2,  3, 31, 30, 29, 28, 27, 26, 25,  5, 36, 22,  7,  8,  9, 11,\n",
              "        13, 20, 19, 18, 17, 16, 91, 37, 63, 67, 70, 71, 72, 74, 76, 78,\n",
              "        79, 80, 81, 83, 84, 85, 87, 88, 64, 62, 38, 61, 39, 40, 42, 43,\n",
              "        44, 90, 46, 47, 48, 49, 50, 51, 52, 59, 60, 45],\n",
              "       [ 7, 91, 62, 80, 81, 44, 29, 38, 39, 49, 13, 28, 34, 27, 51, 52,\n",
              "         3, 17, 84,  1, 76, 61, 59, 83, 20, 90, 36, 30, 64,  4, 67, 19,\n",
              "        74,  5,  9, 37, 31, 85, 25, 78, 16, 42, 71, 43,  8, 60, 47, 48,\n",
              "        70,  2, 22, 26, 18, 11, 45, 40, 72, 88, 87, 46, 50, 63, 79, 53,\n",
              "        75, 12, 73, 10,  6, 77, 15, 82, 86, 89, 14, 66, 69, 68, 35, 65,\n",
              "        21, 58, 23, 24, 57, 56, 55, 54, 32, 33, 41,  0]])"
            ]
          },
          "metadata": {},
          "execution_count": 70
        }
      ]
    },
    {
      "cell_type": "code",
      "source": [
        "max(order_centroids[1])"
      ],
      "metadata": {
        "colab": {
          "base_uri": "https://localhost:8080/"
        },
        "id": "haka9351oWUo",
        "outputId": "52d44dee-280a-48ee-8dd4-256b23b22b62"
      },
      "execution_count": null,
      "outputs": [
        {
          "output_type": "execute_result",
          "data": {
            "text/plain": [
              "91"
            ]
          },
          "metadata": {},
          "execution_count": 71
        }
      ]
    },
    {
      "cell_type": "code",
      "source": [
        "len(terms)"
      ],
      "metadata": {
        "colab": {
          "base_uri": "https://localhost:8080/"
        },
        "id": "jOowZAjYmOoa",
        "outputId": "e18adb33-0727-4c7f-884f-a89156ec3db5"
      },
      "execution_count": null,
      "outputs": [
        {
          "output_type": "execute_result",
          "data": {
            "text/plain": [
              "92"
            ]
          },
          "metadata": {},
          "execution_count": 52
        }
      ]
    },
    {
      "cell_type": "code",
      "source": [
        "terms"
      ],
      "metadata": {
        "colab": {
          "base_uri": "https://localhost:8080/"
        },
        "id": "vHQ-Wv80mRim",
        "outputId": "22a557eb-b103-43fc-b9c1-d4b4108590f3"
      },
      "execution_count": null,
      "outputs": [
        {
          "output_type": "execute_result",
          "data": {
            "text/plain": [
              "array(['200', '25th', 'accounts', 'anniversary', 'batsmen', 'batting',\n",
              "       'beautiful', 'better', 'bigotry', 'bowling', 'career', 'climb',\n",
              "       'cricket', 'day', 'decide', 'depends', 'does', 'don', 'end',\n",
              "       'enjoy', 'exactly', 'fame', 'fatal', 'feel', 'game', 'goa',\n",
              "       'goddamn', 'got', 'great', 'hi', 'highest', 'holidays',\n",
              "       'individual', 'innings', 'internship', 'isn', 'journey', 'just',\n",
              "       'ladakh', 'lavasa', 'lawn', 'man', 'matter', 'mindedness', 'month',\n",
              "       'mountain', 'mowing', 'narrow', 'need', 'night', 'office',\n",
              "       'opportunity', 'paris', 'people', 'place', 'play', 'player',\n",
              "       'players', 'plays', 'potholes', 'prejudice', 'ratting', 'really',\n",
              "       'remember', 'road', 'runs', 'scored', 'scores', 'single', 'skills',\n",
              "       'sorely', 'spend', 'spent', 'sport', 'stop', 'supposed',\n",
              "       'switzerland', 'team', 'thailand', 'time', 'travel', 'trip',\n",
              "       'want', 'wanted', 'wedding', 'wether', 'win', 'won', 'working',\n",
              "       'world', 'worrying', 'year'], dtype=object)"
            ]
          },
          "metadata": {},
          "execution_count": 72
        }
      ]
    },
    {
      "cell_type": "code",
      "source": [
        "for i in range(true_k):\n",
        "  print(\"Cluster %d:\" % i)\n",
        "  for ind in order_centroids[i, :92]:\n",
        "    print('%s ' % terms[ind])"
      ],
      "metadata": {
        "colab": {
          "base_uri": "https://localhost:8080/"
        },
        "id": "6NaQmxRhmmAx",
        "outputId": "4e1eddb6-344d-4475-f6a1-d3e53459497b"
      },
      "execution_count": null,
      "outputs": [
        {
          "output_type": "stream",
          "name": "stdout",
          "text": [
            "Cluster 0:\n",
            "cricket \n",
            "team \n",
            "game \n",
            "world \n",
            "beautiful \n",
            "place \n",
            "man \n",
            "skills \n",
            "individual \n",
            "sport \n",
            "play \n",
            "want \n",
            "fame \n",
            "single \n",
            "runs \n",
            "200 \n",
            "career \n",
            "player \n",
            "scored \n",
            "innings \n",
            "players \n",
            "plays \n",
            "win \n",
            "depends \n",
            "feel \n",
            "isn \n",
            "decide \n",
            "supposed \n",
            "people \n",
            "batsmen \n",
            "internship \n",
            "25th \n",
            "accounts \n",
            "anniversary \n",
            "holidays \n",
            "highest \n",
            "hi \n",
            "great \n",
            "got \n",
            "goddamn \n",
            "goa \n",
            "batting \n",
            "journey \n",
            "fatal \n",
            "better \n",
            "bigotry \n",
            "bowling \n",
            "climb \n",
            "day \n",
            "exactly \n",
            "enjoy \n",
            "end \n",
            "don \n",
            "does \n",
            "year \n",
            "just \n",
            "remember \n",
            "scores \n",
            "sorely \n",
            "spend \n",
            "spent \n",
            "stop \n",
            "switzerland \n",
            "thailand \n",
            "time \n",
            "travel \n",
            "trip \n",
            "wanted \n",
            "wedding \n",
            "wether \n",
            "won \n",
            "working \n",
            "road \n",
            "really \n",
            "ladakh \n",
            "ratting \n",
            "lavasa \n",
            "lawn \n",
            "matter \n",
            "mindedness \n",
            "month \n",
            "worrying \n",
            "mowing \n",
            "narrow \n",
            "need \n",
            "night \n",
            "office \n",
            "opportunity \n",
            "paris \n",
            "potholes \n",
            "prejudice \n",
            "mountain \n",
            "Cluster 1:\n",
            "better \n",
            "year \n",
            "really \n",
            "travel \n",
            "trip \n",
            "month \n",
            "hi \n",
            "ladakh \n",
            "lavasa \n",
            "night \n",
            "day \n",
            "great \n",
            "internship \n",
            "got \n",
            "opportunity \n",
            "paris \n",
            "anniversary \n",
            "don \n",
            "wedding \n",
            "25th \n",
            "switzerland \n",
            "ratting \n",
            "potholes \n",
            "wanted \n",
            "exactly \n",
            "worrying \n",
            "journey \n",
            "highest \n",
            "road \n",
            "batsmen \n",
            "scores \n",
            "enjoy \n",
            "stop \n",
            "batting \n",
            "bowling \n",
            "just \n",
            "holidays \n",
            "wether \n",
            "goa \n",
            "thailand \n",
            "does \n",
            "matter \n",
            "spend \n",
            "mindedness \n",
            "bigotry \n",
            "prejudice \n",
            "narrow \n",
            "need \n",
            "sorely \n",
            "accounts \n",
            "fatal \n",
            "goddamn \n",
            "end \n",
            "climb \n",
            "mountain \n",
            "lawn \n",
            "spent \n",
            "working \n",
            "won \n",
            "mowing \n",
            "office \n",
            "remember \n",
            "time \n",
            "people \n",
            "supposed \n",
            "cricket \n",
            "sport \n",
            "career \n",
            "beautiful \n",
            "team \n",
            "depends \n",
            "want \n",
            "win \n",
            "world \n",
            "decide \n",
            "scored \n",
            "skills \n",
            "single \n",
            "isn \n",
            "runs \n",
            "fame \n",
            "plays \n",
            "feel \n",
            "game \n",
            "players \n",
            "player \n",
            "play \n",
            "place \n",
            "individual \n",
            "innings \n",
            "man \n",
            "200 \n"
          ]
        }
      ]
    },
    {
      "cell_type": "code",
      "source": [
        "print(\"\\n\")\n",
        "print(\"Prediction\")\n",
        "X = vectorizer.transform([\"Nothing is easy in cricket. Maybe when you watch it on TV, it looks easy. But it is not. You have to use your brain and time the ball.\"])\n",
        "predicted = model.predict(X)\n",
        "print(predicted)"
      ],
      "metadata": {
        "colab": {
          "base_uri": "https://localhost:8080/"
        },
        "id": "6TD78x6EphJX",
        "outputId": "ca5500a8-905e-4388-ca91-f4ef322012fa"
      },
      "execution_count": null,
      "outputs": [
        {
          "output_type": "stream",
          "name": "stdout",
          "text": [
            "\n",
            "\n",
            "Prediction\n",
            "[0]\n"
          ]
        }
      ]
    },
    {
      "cell_type": "code",
      "source": [
        "from sklearn.metrics import classification_report"
      ],
      "metadata": {
        "id": "f39xfU67sVbB"
      },
      "execution_count": null,
      "outputs": []
    },
    {
      "cell_type": "code",
      "source": [
        "l = model.labels_"
      ],
      "metadata": {
        "id": "rHnXJ6Tap42F"
      },
      "execution_count": null,
      "outputs": []
    },
    {
      "cell_type": "code",
      "source": [
        "print(list(l))\n",
        "print(labeln)"
      ],
      "metadata": {
        "colab": {
          "base_uri": "https://localhost:8080/"
        },
        "id": "-h8kkso7uuvq",
        "outputId": "33279286-b653-445a-9b6d-c0e46145e17f"
      },
      "execution_count": null,
      "outputs": [
        {
          "output_type": "stream",
          "name": "stdout",
          "text": [
            "[0, 0, 1, 0, 1, 1, 1, 1, 1, 1, 1, 1, 0, 0, 1, 0]\n",
            "[1, 0, 1, 0, 1, 0, 1, 0, 1, 1, 1, 1, 0, 0, 1, 0]\n"
          ]
        }
      ]
    },
    {
      "cell_type": "code",
      "source": [
        "print(classification_report(labeln, l))"
      ],
      "metadata": {
        "colab": {
          "base_uri": "https://localhost:8080/"
        },
        "id": "Dd1gabx_u2AD",
        "outputId": "eb6f744d-62b3-4814-8fca-23f0ae04388e"
      },
      "execution_count": null,
      "outputs": [
        {
          "output_type": "stream",
          "name": "stdout",
          "text": [
            "              precision    recall  f1-score   support\n",
            "\n",
            "           0       0.83      0.71      0.77         7\n",
            "           1       0.80      0.89      0.84         9\n",
            "\n",
            "    accuracy                           0.81        16\n",
            "   macro avg       0.82      0.80      0.81        16\n",
            "weighted avg       0.81      0.81      0.81        16\n",
            "\n"
          ]
        }
      ]
    }
  ]
}